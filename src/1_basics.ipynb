{
 "cells": [
  {
   "cell_type": "code",
   "execution_count": 22,
   "metadata": {},
   "outputs": [],
   "source": [
    "import yfinance as yf\n",
    "import pandas as pd\n",
    "from resources.chart.yprint import *\n",
    "from resources.chart.datasets import *\n",
    "from resources.financials.profit import *\n",
    "import numpy as np\n",
    "import pandas as pd\n",
    "from matplotlib import pyplot as plt\n"
   ]
  },
  {
   "cell_type": "code",
   "execution_count": 2,
   "metadata": {},
   "outputs": [],
   "source": [
    "ticker = yf.Ticker('AAPL')\n"
   ]
  },
  {
   "cell_type": "code",
   "execution_count": 3,
   "metadata": {},
   "outputs": [
    {
     "data": {
      "text/plain": [
       "10"
      ]
     },
     "execution_count": 3,
     "metadata": {},
     "output_type": "execute_result"
    }
   ],
   "source": [
    "symbols = get_snp500_tickers_from_wiki()\n",
    "symbols = symbols[:10]\n",
    "len(symbols)\n"
   ]
  },
  {
   "cell_type": "code",
   "execution_count": 17,
   "metadata": {},
   "outputs": [
    {
     "name": "stdout",
     "output_type": "stream",
     "text": [
      "[*********************100%***********************]  10 of 10 completed\n"
     ]
    }
   ],
   "source": [
    "df = yf.download(symbols,period='1mo', interval='1h', group_by='ticker')"
   ]
  },
  {
   "cell_type": "code",
   "execution_count": 23,
   "metadata": {},
   "outputs": [
    {
     "data": {
      "text/html": [
       "<div>\n",
       "<style scoped>\n",
       "    .dataframe tbody tr th:only-of-type {\n",
       "        vertical-align: middle;\n",
       "    }\n",
       "\n",
       "    .dataframe tbody tr th {\n",
       "        vertical-align: top;\n",
       "    }\n",
       "\n",
       "    .dataframe thead th {\n",
       "        text-align: right;\n",
       "    }\n",
       "</style>\n",
       "<table border=\"1\" class=\"dataframe\">\n",
       "  <thead>\n",
       "    <tr style=\"text-align: right;\">\n",
       "      <th></th>\n",
       "      <th>Open</th>\n",
       "      <th>High</th>\n",
       "      <th>Low</th>\n",
       "      <th>Close</th>\n",
       "      <th>Adj Close</th>\n",
       "      <th>Volume</th>\n",
       "    </tr>\n",
       "  </thead>\n",
       "  <tbody>\n",
       "    <tr>\n",
       "      <th>2022-05-25 09:30:00-04:00</th>\n",
       "      <td>150.360001</td>\n",
       "      <td>152.880005</td>\n",
       "      <td>149.789993</td>\n",
       "      <td>152.570007</td>\n",
       "      <td>152.570007</td>\n",
       "      <td>879100</td>\n",
       "    </tr>\n",
       "    <tr>\n",
       "      <th>2022-05-25 10:30:00-04:00</th>\n",
       "      <td>152.580002</td>\n",
       "      <td>152.990005</td>\n",
       "      <td>151.779999</td>\n",
       "      <td>151.839996</td>\n",
       "      <td>151.839996</td>\n",
       "      <td>495216</td>\n",
       "    </tr>\n",
       "    <tr>\n",
       "      <th>2022-05-25 11:30:00-04:00</th>\n",
       "      <td>151.835007</td>\n",
       "      <td>151.845001</td>\n",
       "      <td>150.639999</td>\n",
       "      <td>150.830002</td>\n",
       "      <td>150.830002</td>\n",
       "      <td>435527</td>\n",
       "    </tr>\n",
       "    <tr>\n",
       "      <th>2022-05-25 12:30:00-04:00</th>\n",
       "      <td>150.809998</td>\n",
       "      <td>151.445007</td>\n",
       "      <td>150.669998</td>\n",
       "      <td>150.940002</td>\n",
       "      <td>150.940002</td>\n",
       "      <td>381358</td>\n",
       "    </tr>\n",
       "    <tr>\n",
       "      <th>2022-05-25 13:30:00-04:00</th>\n",
       "      <td>150.939606</td>\n",
       "      <td>151.910004</td>\n",
       "      <td>150.490005</td>\n",
       "      <td>151.714996</td>\n",
       "      <td>151.714996</td>\n",
       "      <td>477237</td>\n",
       "    </tr>\n",
       "    <tr>\n",
       "      <th>...</th>\n",
       "      <td>...</td>\n",
       "      <td>...</td>\n",
       "      <td>...</td>\n",
       "      <td>...</td>\n",
       "      <td>...</td>\n",
       "      <td>...</td>\n",
       "    </tr>\n",
       "    <tr>\n",
       "      <th>2022-06-24 12:30:00-04:00</th>\n",
       "      <td>151.695007</td>\n",
       "      <td>152.339996</td>\n",
       "      <td>151.649994</td>\n",
       "      <td>152.289993</td>\n",
       "      <td>152.289993</td>\n",
       "      <td>375545</td>\n",
       "    </tr>\n",
       "    <tr>\n",
       "      <th>2022-06-24 13:30:00-04:00</th>\n",
       "      <td>152.259995</td>\n",
       "      <td>152.619995</td>\n",
       "      <td>151.860001</td>\n",
       "      <td>152.029999</td>\n",
       "      <td>152.029999</td>\n",
       "      <td>514462</td>\n",
       "    </tr>\n",
       "    <tr>\n",
       "      <th>2022-06-24 14:30:00-04:00</th>\n",
       "      <td>152.035004</td>\n",
       "      <td>152.429993</td>\n",
       "      <td>151.979996</td>\n",
       "      <td>152.285004</td>\n",
       "      <td>152.285004</td>\n",
       "      <td>766275</td>\n",
       "    </tr>\n",
       "    <tr>\n",
       "      <th>2022-06-24 15:30:00-04:00</th>\n",
       "      <td>152.285004</td>\n",
       "      <td>152.740005</td>\n",
       "      <td>151.820007</td>\n",
       "      <td>152.550003</td>\n",
       "      <td>152.550003</td>\n",
       "      <td>1181063</td>\n",
       "    </tr>\n",
       "    <tr>\n",
       "      <th>2022-06-24 16:00:00-04:00</th>\n",
       "      <td>152.550003</td>\n",
       "      <td>152.550003</td>\n",
       "      <td>152.550003</td>\n",
       "      <td>152.550003</td>\n",
       "      <td>152.550003</td>\n",
       "      <td>0</td>\n",
       "    </tr>\n",
       "  </tbody>\n",
       "</table>\n",
       "<p>148 rows × 6 columns</p>\n",
       "</div>"
      ],
      "text/plain": [
       "                                 Open        High         Low       Close  \\\n",
       "2022-05-25 09:30:00-04:00  150.360001  152.880005  149.789993  152.570007   \n",
       "2022-05-25 10:30:00-04:00  152.580002  152.990005  151.779999  151.839996   \n",
       "2022-05-25 11:30:00-04:00  151.835007  151.845001  150.639999  150.830002   \n",
       "2022-05-25 12:30:00-04:00  150.809998  151.445007  150.669998  150.940002   \n",
       "2022-05-25 13:30:00-04:00  150.939606  151.910004  150.490005  151.714996   \n",
       "...                               ...         ...         ...         ...   \n",
       "2022-06-24 12:30:00-04:00  151.695007  152.339996  151.649994  152.289993   \n",
       "2022-06-24 13:30:00-04:00  152.259995  152.619995  151.860001  152.029999   \n",
       "2022-06-24 14:30:00-04:00  152.035004  152.429993  151.979996  152.285004   \n",
       "2022-06-24 15:30:00-04:00  152.285004  152.740005  151.820007  152.550003   \n",
       "2022-06-24 16:00:00-04:00  152.550003  152.550003  152.550003  152.550003   \n",
       "\n",
       "                            Adj Close   Volume  \n",
       "2022-05-25 09:30:00-04:00  152.570007   879100  \n",
       "2022-05-25 10:30:00-04:00  151.839996   495216  \n",
       "2022-05-25 11:30:00-04:00  150.830002   435527  \n",
       "2022-05-25 12:30:00-04:00  150.940002   381358  \n",
       "2022-05-25 13:30:00-04:00  151.714996   477237  \n",
       "...                               ...      ...  \n",
       "2022-06-24 12:30:00-04:00  152.289993   375545  \n",
       "2022-06-24 13:30:00-04:00  152.029999   514462  \n",
       "2022-06-24 14:30:00-04:00  152.285004   766275  \n",
       "2022-06-24 15:30:00-04:00  152.550003  1181063  \n",
       "2022-06-24 16:00:00-04:00  152.550003        0  \n",
       "\n",
       "[148 rows x 6 columns]"
      ]
     },
     "execution_count": 23,
     "metadata": {},
     "output_type": "execute_result"
    }
   ],
   "source": [
    "df['ABBV']"
   ]
  },
  {
   "cell_type": "code",
   "execution_count": 24,
   "metadata": {},
   "outputs": [
    {
     "data": {
      "text/plain": [
       "<AxesSubplot:>"
      ]
     },
     "execution_count": 24,
     "metadata": {},
     "output_type": "execute_result"
    },
    {
     "data": {
      "image/png": "[encoded data removed]",
      "text/plain": [
       "<Figure size 432x288 with 1 Axes>"
      ]
     },
     "metadata": {
      "needs_background": "light"
     },
     "output_type": "display_data"
    }
   ],
   "source": [
    "df['ABBV']['Close'].plot()\n"
   ]
  },
  {
   "cell_type": "code",
   "execution_count": null,
   "metadata": {},
   "outputs": [],
   "source": [
    "\n"
   ]
  }
 ],
 "metadata": {
  "kernelspec": {
   "display_name": "Python 3.9.6 64-bit",
   "language": "python",
   "name": "python3"
  },
  "language_info": {
   "codemirror_mode": {
    "name": "ipython",
    "version": 3
   },
   "file_extension": ".py",
   "mimetype": "text/x-python",
   "name": "python",
   "nbconvert_exporter": "python",
   "pygments_lexer": "ipython3",
   "version": "3.9.6"
  },
  "orig_nbformat": 4,
  "vscode": {
   "interpreter": {
    "hash": "25034407fed5d681614dac11a1c0537e8cb49e3a8883c071303eea01322943d9"
   }
  }
 },
 "nbformat": 4,
 "nbformat_minor": 2
}
