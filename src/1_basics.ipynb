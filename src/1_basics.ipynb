{
 "cells": [
  {
   "cell_type": "code",
   "execution_count": 1,
   "metadata": {},
   "outputs": [],
   "source": [
    "import yfinance as yf\n",
    "import pandas as pd\n",
    "from resources.chart.yprint import *\n",
    "from resources.financials import stockanalysis\n",
    "from resources.chart.datasets import *\n",
    "from resources.financials import profitmgr\n",
    "from resources.datetimeutil import datetimemgr\n",
    "import numpy as np\n",
    "import pandas as pd\n",
    "from matplotlib import pyplot as plt\n",
    "from pandas import DatetimeIndex\n"
   ]
  },
  {
   "cell_type": "code",
   "execution_count": 2,
   "metadata": {},
   "outputs": [],
   "source": [
    "ticker = yf.Ticker('AAPL')\n"
   ]
  },
  {
   "cell_type": "code",
   "execution_count": 3,
   "metadata": {},
   "outputs": [
    {
     "data": {
      "text/plain": [
       "10"
      ]
     },
     "execution_count": 3,
     "metadata": {},
     "output_type": "execute_result"
    }
   ],
   "source": [
    "symbols = get_snp500_tickers_from_wiki()\n",
    "symbols = symbols[:10]\n",
    "len(symbols)\n"
   ]
  },
  {
   "cell_type": "markdown",
   "metadata": {},
   "source": [
    "1. Valid periods: [1d, 1mo, 1y]\n",
    "2. Valid intervals: [1m, 2m, 5m, 15m, 30m, 60m, 90m, 1h, 1d, 5d, 1wk, 1mo, 3mo]"
   ]
  },
  {
   "cell_type": "code",
   "execution_count": 77,
   "metadata": {},
   "outputs": [
    {
     "name": "stdout",
     "output_type": "stream",
     "text": [
      "[*********************100%***********************]  10 of 10 completed\n"
     ]
    }
   ],
   "source": [
    "df = yf.download(symbols,period='1mo', interval='30m', group_by='ticker')"
   ]
  },
  {
   "cell_type": "code",
   "execution_count": 78,
   "metadata": {},
   "outputs": [
    {
     "data": {
      "text/html": [
       "<div>\n",
       "<style scoped>\n",
       "    .dataframe tbody tr th:only-of-type {\n",
       "        vertical-align: middle;\n",
       "    }\n",
       "\n",
       "    .dataframe tbody tr th {\n",
       "        vertical-align: top;\n",
       "    }\n",
       "\n",
       "    .dataframe thead th {\n",
       "        text-align: right;\n",
       "    }\n",
       "</style>\n",
       "<table border=\"1\" class=\"dataframe\">\n",
       "  <thead>\n",
       "    <tr style=\"text-align: right;\">\n",
       "      <th></th>\n",
       "      <th>Open</th>\n",
       "      <th>High</th>\n",
       "      <th>Low</th>\n",
       "      <th>Close</th>\n",
       "      <th>Adj Close</th>\n",
       "      <th>Volume</th>\n",
       "    </tr>\n",
       "    <tr>\n",
       "      <th>Datetime</th>\n",
       "      <th></th>\n",
       "      <th></th>\n",
       "      <th></th>\n",
       "      <th></th>\n",
       "      <th></th>\n",
       "      <th></th>\n",
       "    </tr>\n",
       "  </thead>\n",
       "  <tbody>\n",
       "    <tr>\n",
       "      <th>2022-05-25 09:30:00-04:00</th>\n",
       "      <td>150.360001</td>\n",
       "      <td>152.750000</td>\n",
       "      <td>149.789993</td>\n",
       "      <td>152.259995</td>\n",
       "      <td>152.259995</td>\n",
       "      <td>551573</td>\n",
       "    </tr>\n",
       "    <tr>\n",
       "      <th>2022-05-25 10:00:00-04:00</th>\n",
       "      <td>152.229996</td>\n",
       "      <td>152.880005</td>\n",
       "      <td>151.550003</td>\n",
       "      <td>152.570007</td>\n",
       "      <td>152.570007</td>\n",
       "      <td>327527</td>\n",
       "    </tr>\n",
       "    <tr>\n",
       "      <th>2022-05-25 10:30:00-04:00</th>\n",
       "      <td>152.580002</td>\n",
       "      <td>152.990005</td>\n",
       "      <td>152.168198</td>\n",
       "      <td>152.485001</td>\n",
       "      <td>152.485001</td>\n",
       "      <td>285868</td>\n",
       "    </tr>\n",
       "    <tr>\n",
       "      <th>2022-05-25 11:00:00-04:00</th>\n",
       "      <td>152.520004</td>\n",
       "      <td>152.740005</td>\n",
       "      <td>151.779999</td>\n",
       "      <td>151.839996</td>\n",
       "      <td>151.839996</td>\n",
       "      <td>209348</td>\n",
       "    </tr>\n",
       "    <tr>\n",
       "      <th>2022-05-25 11:30:00-04:00</th>\n",
       "      <td>151.835007</td>\n",
       "      <td>151.845001</td>\n",
       "      <td>150.895004</td>\n",
       "      <td>151.449997</td>\n",
       "      <td>151.449997</td>\n",
       "      <td>202765</td>\n",
       "    </tr>\n",
       "    <tr>\n",
       "      <th>...</th>\n",
       "      <td>...</td>\n",
       "      <td>...</td>\n",
       "      <td>...</td>\n",
       "      <td>...</td>\n",
       "      <td>...</td>\n",
       "      <td>...</td>\n",
       "    </tr>\n",
       "    <tr>\n",
       "      <th>2022-06-24 14:00:00-04:00</th>\n",
       "      <td>152.339996</td>\n",
       "      <td>152.354996</td>\n",
       "      <td>151.860001</td>\n",
       "      <td>152.029999</td>\n",
       "      <td>152.029999</td>\n",
       "      <td>324928</td>\n",
       "    </tr>\n",
       "    <tr>\n",
       "      <th>2022-06-24 14:30:00-04:00</th>\n",
       "      <td>152.035004</td>\n",
       "      <td>152.345001</td>\n",
       "      <td>151.979996</td>\n",
       "      <td>152.279999</td>\n",
       "      <td>152.279999</td>\n",
       "      <td>354636</td>\n",
       "    </tr>\n",
       "    <tr>\n",
       "      <th>2022-06-24 15:00:00-04:00</th>\n",
       "      <td>152.279999</td>\n",
       "      <td>152.429993</td>\n",
       "      <td>152.084503</td>\n",
       "      <td>152.285004</td>\n",
       "      <td>152.285004</td>\n",
       "      <td>411639</td>\n",
       "    </tr>\n",
       "    <tr>\n",
       "      <th>2022-06-24 15:30:00-04:00</th>\n",
       "      <td>152.285004</td>\n",
       "      <td>152.740005</td>\n",
       "      <td>151.820007</td>\n",
       "      <td>152.500000</td>\n",
       "      <td>152.500000</td>\n",
       "      <td>1210653</td>\n",
       "    </tr>\n",
       "    <tr>\n",
       "      <th>2022-06-24 16:00:00-04:00</th>\n",
       "      <td>152.339996</td>\n",
       "      <td>152.339996</td>\n",
       "      <td>152.339996</td>\n",
       "      <td>152.339996</td>\n",
       "      <td>152.339996</td>\n",
       "      <td>0</td>\n",
       "    </tr>\n",
       "  </tbody>\n",
       "</table>\n",
       "<p>274 rows × 6 columns</p>\n",
       "</div>"
      ],
      "text/plain": [
       "                                 Open        High         Low       Close  \\\n",
       "Datetime                                                                    \n",
       "2022-05-25 09:30:00-04:00  150.360001  152.750000  149.789993  152.259995   \n",
       "2022-05-25 10:00:00-04:00  152.229996  152.880005  151.550003  152.570007   \n",
       "2022-05-25 10:30:00-04:00  152.580002  152.990005  152.168198  152.485001   \n",
       "2022-05-25 11:00:00-04:00  152.520004  152.740005  151.779999  151.839996   \n",
       "2022-05-25 11:30:00-04:00  151.835007  151.845001  150.895004  151.449997   \n",
       "...                               ...         ...         ...         ...   \n",
       "2022-06-24 14:00:00-04:00  152.339996  152.354996  151.860001  152.029999   \n",
       "2022-06-24 14:30:00-04:00  152.035004  152.345001  151.979996  152.279999   \n",
       "2022-06-24 15:00:00-04:00  152.279999  152.429993  152.084503  152.285004   \n",
       "2022-06-24 15:30:00-04:00  152.285004  152.740005  151.820007  152.500000   \n",
       "2022-06-24 16:00:00-04:00  152.339996  152.339996  152.339996  152.339996   \n",
       "\n",
       "                            Adj Close   Volume  \n",
       "Datetime                                        \n",
       "2022-05-25 09:30:00-04:00  152.259995   551573  \n",
       "2022-05-25 10:00:00-04:00  152.570007   327527  \n",
       "2022-05-25 10:30:00-04:00  152.485001   285868  \n",
       "2022-05-25 11:00:00-04:00  151.839996   209348  \n",
       "2022-05-25 11:30:00-04:00  151.449997   202765  \n",
       "...                               ...      ...  \n",
       "2022-06-24 14:00:00-04:00  152.029999   324928  \n",
       "2022-06-24 14:30:00-04:00  152.279999   354636  \n",
       "2022-06-24 15:00:00-04:00  152.285004   411639  \n",
       "2022-06-24 15:30:00-04:00  152.500000  1210653  \n",
       "2022-06-24 16:00:00-04:00  152.339996        0  \n",
       "\n",
       "[274 rows x 6 columns]"
      ]
     },
     "execution_count": 78,
     "metadata": {},
     "output_type": "execute_result"
    }
   ],
   "source": [
    "df['ABBV']"
   ]
  },
  {
   "cell_type": "code",
   "execution_count": 79,
   "metadata": {},
   "outputs": [
    {
     "data": {
      "text/plain": [
       "<AxesSubplot:xlabel='Datetime'>"
      ]
     },
     "execution_count": 79,
     "metadata": {},
     "output_type": "execute_result"
    },
    {
     "data": {
      "image/png": "[encoded data removed]",
      "text/plain": [
       "<Figure size 432x288 with 1 Axes>"
      ]
     },
     "metadata": {
      "needs_background": "light"
     },
     "output_type": "display_data"
    }
   ],
   "source": [
    "df['ABBV']['Close'].plot()\n"
   ]
  },
  {
   "cell_type": "code",
   "execution_count": 80,
   "metadata": {},
   "outputs": [
    {
     "data": {
      "text/plain": [
       "DatetimeIndex(['2022-05-25 09:30:00-04:00', '2022-05-25 10:00:00-04:00',\n",
       "               '2022-05-25 10:30:00-04:00', '2022-05-25 11:00:00-04:00',\n",
       "               '2022-05-25 11:30:00-04:00', '2022-05-25 12:00:00-04:00',\n",
       "               '2022-05-25 12:30:00-04:00', '2022-05-25 13:00:00-04:00',\n",
       "               '2022-05-25 13:30:00-04:00', '2022-05-25 14:00:00-04:00',\n",
       "               ...\n",
       "               '2022-06-24 11:30:00-04:00', '2022-06-24 12:00:00-04:00',\n",
       "               '2022-06-24 12:30:00-04:00', '2022-06-24 13:00:00-04:00',\n",
       "               '2022-06-24 13:30:00-04:00', '2022-06-24 14:00:00-04:00',\n",
       "               '2022-06-24 14:30:00-04:00', '2022-06-24 15:00:00-04:00',\n",
       "               '2022-06-24 15:30:00-04:00', '2022-06-24 16:00:00-04:00'],\n",
       "              dtype='datetime64[ns, America/New_York]', name='Datetime', length=274, freq=None)"
      ]
     },
     "execution_count": 80,
     "metadata": {},
     "output_type": "execute_result"
    }
   ],
   "source": [
    "dates = df.index\n",
    "dates"
   ]
  },
  {
   "cell_type": "code",
   "execution_count": 81,
   "metadata": {},
   "outputs": [
    {
     "data": {
      "text/plain": [
       "DatetimeIndex(['2022-05-26 09:30:00-04:00', '2022-05-26 10:00:00-04:00',\n",
       "               '2022-05-26 10:30:00-04:00', '2022-05-26 11:00:00-04:00',\n",
       "               '2022-05-26 11:30:00-04:00', '2022-05-26 12:00:00-04:00',\n",
       "               '2022-05-26 12:30:00-04:00', '2022-05-26 13:00:00-04:00',\n",
       "               '2022-05-26 13:30:00-04:00', '2022-05-26 14:00:00-04:00',\n",
       "               '2022-05-26 14:30:00-04:00', '2022-05-26 15:00:00-04:00',\n",
       "               '2022-05-26 15:30:00-04:00', '2022-05-27 09:30:00-04:00',\n",
       "               '2022-05-27 10:00:00-04:00', '2022-05-27 10:30:00-04:00',\n",
       "               '2022-05-27 11:00:00-04:00', '2022-05-27 11:30:00-04:00',\n",
       "               '2022-05-27 12:00:00-04:00', '2022-05-27 12:30:00-04:00',\n",
       "               '2022-05-27 13:00:00-04:00', '2022-05-27 13:30:00-04:00',\n",
       "               '2022-05-27 14:00:00-04:00', '2022-05-27 14:30:00-04:00',\n",
       "               '2022-05-27 15:00:00-04:00', '2022-05-27 15:30:00-04:00'],\n",
       "              dtype='datetime64[ns, America/New_York]', name='Datetime', freq=None)"
      ]
     },
     "execution_count": 81,
     "metadata": {},
     "output_type": "execute_result"
    }
   ],
   "source": [
    "datetimemgr.Datetime_range_stock(dates,'2022-05-26','2022-05-27')"
   ]
  },
  {
   "cell_type": "code",
   "execution_count": 82,
   "metadata": {},
   "outputs": [
    {
     "data": {
      "text/plain": [
       "DatetimeIndex(['2022-05-26 15:30:00-04:00', '2022-05-27 15:30:00-04:00',\n",
       "               '2022-05-31 15:30:00-04:00', '2022-06-01 15:30:00-04:00',\n",
       "               '2022-06-02 15:30:00-04:00', '2022-06-03 15:30:00-04:00'],\n",
       "              dtype='datetime64[ns, America/New_York]', freq=None)"
      ]
     },
     "execution_count": 82,
     "metadata": {},
     "output_type": "execute_result"
    }
   ],
   "source": [
    "datetimemgr.Datetime_range_close_stock(dates,'2022-05-26','2022-06-03')"
   ]
  },
  {
   "cell_type": "code",
   "execution_count": 83,
   "metadata": {},
   "outputs": [],
   "source": [
    "k = datetimemgr.Datetime_range_close_stock(dates,'2022-05-26','2022-06-03')\n",
    "apple = df.loc[k]['ABBV']\n"
   ]
  },
  {
   "cell_type": "code",
   "execution_count": 84,
   "metadata": {},
   "outputs": [
    {
     "data": {
      "text/plain": [
       "-2.271216713612759"
      ]
     },
     "execution_count": 84,
     "metadata": {},
     "output_type": "execute_result"
    }
   ],
   "source": [
    "profitmgr.profit_percent_stock(df, 'ABBV', '2022-05-26', '2022-06-03')"
   ]
  },
  {
   "cell_type": "code",
   "execution_count": 85,
   "metadata": {},
   "outputs": [
    {
     "data": {
      "text/plain": [
       "pandas.core.series.Series"
      ]
     },
     "execution_count": 85,
     "metadata": {},
     "output_type": "execute_result"
    },
    {
     "data": {
      "image/png": "[encoded data removed]",
      "text/plain": [
       "<Figure size 432x288 with 1 Axes>"
      ]
     },
     "metadata": {
      "needs_background": "light"
     },
     "output_type": "display_data"
    }
   ],
   "source": [
    "type(stockanalysis.stock_history(df,'ABBV', '2022-05-26', '2022-06-03', 'Close',True))"
   ]
  }
 ],
 "metadata": {
  "kernelspec": {
   "display_name": "Python 3.9.6 64-bit",
   "language": "python",
   "name": "python3"
  },
  "language_info": {
   "codemirror_mode": {
    "name": "ipython",
    "version": 3
   },
   "file_extension": ".py",
   "mimetype": "text/x-python",
   "name": "python",
   "nbconvert_exporter": "python",
   "pygments_lexer": "ipython3",
   "version": "3.9.6"
  },
  "orig_nbformat": 4,
  "vscode": {
   "interpreter": {
    "hash": "25034407fed5d681614dac11a1c0537e8cb49e3a8883c071303eea01322943d9"
   }
  }
 },
 "nbformat": 4,
 "nbformat_minor": 2
}
